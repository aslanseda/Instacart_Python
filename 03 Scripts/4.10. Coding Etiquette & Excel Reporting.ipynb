{
 "cells": [
  {
   "cell_type": "markdown",
   "id": "3a9b9c9d",
   "metadata": {},
   "source": [
    "# Content\n",
    "## 1. Importing Libraries\n",
    "## 2. Importing Data Frame\n",
    "## 3.Security Implication\n",
    "## 4. Create a Region flag\n",
    "## 5. Create exclusion flag for low-activity customers\n",
    "## 6. Create customer Profiles\n",
    "## 7. Visualizing profiles\n",
    "## 8. Customer profile level statistics\n",
    "## 9. Compare customer profiles with regions and departments\n",
    "## 10. Visualizing profiles by departments"
   ]
  },
  {
   "cell_type": "markdown",
   "id": "5e447fc2",
   "metadata": {},
   "source": [
    "# 1. Importing Libraries"
   ]
  },
  {
   "cell_type": "code",
   "execution_count": 2,
   "id": "5a0e94f3",
   "metadata": {},
   "outputs": [],
   "source": [
    "import pandas as pd\n",
    "import numpy as np\n",
    "import os\n",
    "import matplotlib.pyplot as plt\n",
    "import seaborn as sns\n",
    "import scipy"
   ]
  },
  {
   "cell_type": "markdown",
   "id": "20a9fce1",
   "metadata": {},
   "source": [
    "# 2. Importing Data Frame"
   ]
  },
  {
   "cell_type": "code",
   "execution_count": 3,
   "id": "fd1ae266",
   "metadata": {},
   "outputs": [],
   "source": [
    "# Creating the path for the data\n",
    "path = r'C:\\Users\\sdaon\\Documents\\Instacart Basket Analysis'"
   ]
  },
  {
   "cell_type": "code",
   "execution_count": 4,
   "id": "67690118",
   "metadata": {},
   "outputs": [],
   "source": [
    "# Importing orders_products_customer_merged\n",
    "df_ords_prods_custm = pd.read_pickle(os.path.join(path, '02 Data', 'Prepared Data', 'orders_products_customers_combined.pkl'))"
   ]
  },
  {
   "cell_type": "markdown",
   "id": "14a1e9e0",
   "metadata": {},
   "source": [
    "# 3. Security Implication"
   ]
  },
  {
   "cell_type": "code",
   "execution_count": 5,
   "id": "ad48a673",
   "metadata": {},
   "outputs": [
    {
     "data": {
      "text/html": [
       "<div>\n",
       "<style scoped>\n",
       "    .dataframe tbody tr th:only-of-type {\n",
       "        vertical-align: middle;\n",
       "    }\n",
       "\n",
       "    .dataframe tbody tr th {\n",
       "        vertical-align: top;\n",
       "    }\n",
       "\n",
       "    .dataframe thead th {\n",
       "        text-align: right;\n",
       "    }\n",
       "</style>\n",
       "<table border=\"1\" class=\"dataframe\">\n",
       "  <thead>\n",
       "    <tr style=\"text-align: right;\">\n",
       "      <th></th>\n",
       "      <th>order_id</th>\n",
       "      <th>user_id</th>\n",
       "      <th>order_number</th>\n",
       "      <th>orders_day_of_week</th>\n",
       "      <th>order_hour_of_day</th>\n",
       "      <th>days_since_prior_order</th>\n",
       "      <th>product_id</th>\n",
       "      <th>add_to_cart_order</th>\n",
       "      <th>reordered</th>\n",
       "      <th>product_name</th>\n",
       "      <th>...</th>\n",
       "      <th>frequent_median</th>\n",
       "      <th>frequent_flag</th>\n",
       "      <th>gender</th>\n",
       "      <th>state</th>\n",
       "      <th>age</th>\n",
       "      <th>date_joined</th>\n",
       "      <th>numbers_of_dependants</th>\n",
       "      <th>family_status</th>\n",
       "      <th>income</th>\n",
       "      <th>True</th>\n",
       "    </tr>\n",
       "  </thead>\n",
       "  <tbody>\n",
       "    <tr>\n",
       "      <th>0</th>\n",
       "      <td>2539329</td>\n",
       "      <td>1</td>\n",
       "      <td>1</td>\n",
       "      <td>2</td>\n",
       "      <td>8</td>\n",
       "      <td>NaN</td>\n",
       "      <td>196</td>\n",
       "      <td>1</td>\n",
       "      <td>0</td>\n",
       "      <td>Soda</td>\n",
       "      <td>...</td>\n",
       "      <td>20.5</td>\n",
       "      <td>Non-frequent customer</td>\n",
       "      <td>Female</td>\n",
       "      <td>Alabama</td>\n",
       "      <td>31</td>\n",
       "      <td>2/17/2019</td>\n",
       "      <td>3</td>\n",
       "      <td>married</td>\n",
       "      <td>40423</td>\n",
       "      <td>both</td>\n",
       "    </tr>\n",
       "    <tr>\n",
       "      <th>1</th>\n",
       "      <td>2398795</td>\n",
       "      <td>1</td>\n",
       "      <td>2</td>\n",
       "      <td>3</td>\n",
       "      <td>7</td>\n",
       "      <td>15.0</td>\n",
       "      <td>196</td>\n",
       "      <td>1</td>\n",
       "      <td>1</td>\n",
       "      <td>Soda</td>\n",
       "      <td>...</td>\n",
       "      <td>20.5</td>\n",
       "      <td>Non-frequent customer</td>\n",
       "      <td>Female</td>\n",
       "      <td>Alabama</td>\n",
       "      <td>31</td>\n",
       "      <td>2/17/2019</td>\n",
       "      <td>3</td>\n",
       "      <td>married</td>\n",
       "      <td>40423</td>\n",
       "      <td>both</td>\n",
       "    </tr>\n",
       "    <tr>\n",
       "      <th>2</th>\n",
       "      <td>473747</td>\n",
       "      <td>1</td>\n",
       "      <td>3</td>\n",
       "      <td>3</td>\n",
       "      <td>12</td>\n",
       "      <td>21.0</td>\n",
       "      <td>196</td>\n",
       "      <td>1</td>\n",
       "      <td>1</td>\n",
       "      <td>Soda</td>\n",
       "      <td>...</td>\n",
       "      <td>20.5</td>\n",
       "      <td>Non-frequent customer</td>\n",
       "      <td>Female</td>\n",
       "      <td>Alabama</td>\n",
       "      <td>31</td>\n",
       "      <td>2/17/2019</td>\n",
       "      <td>3</td>\n",
       "      <td>married</td>\n",
       "      <td>40423</td>\n",
       "      <td>both</td>\n",
       "    </tr>\n",
       "    <tr>\n",
       "      <th>3</th>\n",
       "      <td>2254736</td>\n",
       "      <td>1</td>\n",
       "      <td>4</td>\n",
       "      <td>4</td>\n",
       "      <td>7</td>\n",
       "      <td>29.0</td>\n",
       "      <td>196</td>\n",
       "      <td>1</td>\n",
       "      <td>1</td>\n",
       "      <td>Soda</td>\n",
       "      <td>...</td>\n",
       "      <td>20.5</td>\n",
       "      <td>Non-frequent customer</td>\n",
       "      <td>Female</td>\n",
       "      <td>Alabama</td>\n",
       "      <td>31</td>\n",
       "      <td>2/17/2019</td>\n",
       "      <td>3</td>\n",
       "      <td>married</td>\n",
       "      <td>40423</td>\n",
       "      <td>both</td>\n",
       "    </tr>\n",
       "    <tr>\n",
       "      <th>4</th>\n",
       "      <td>431534</td>\n",
       "      <td>1</td>\n",
       "      <td>5</td>\n",
       "      <td>4</td>\n",
       "      <td>15</td>\n",
       "      <td>28.0</td>\n",
       "      <td>196</td>\n",
       "      <td>1</td>\n",
       "      <td>1</td>\n",
       "      <td>Soda</td>\n",
       "      <td>...</td>\n",
       "      <td>20.5</td>\n",
       "      <td>Non-frequent customer</td>\n",
       "      <td>Female</td>\n",
       "      <td>Alabama</td>\n",
       "      <td>31</td>\n",
       "      <td>2/17/2019</td>\n",
       "      <td>3</td>\n",
       "      <td>married</td>\n",
       "      <td>40423</td>\n",
       "      <td>both</td>\n",
       "    </tr>\n",
       "  </tbody>\n",
       "</table>\n",
       "<p>5 rows × 32 columns</p>\n",
       "</div>"
      ],
      "text/plain": [
       "   order_id user_id  order_number  orders_day_of_week  order_hour_of_day  \\\n",
       "0   2539329       1             1                   2                  8   \n",
       "1   2398795       1             2                   3                  7   \n",
       "2    473747       1             3                   3                 12   \n",
       "3   2254736       1             4                   4                  7   \n",
       "4    431534       1             5                   4                 15   \n",
       "\n",
       "   days_since_prior_order  product_id  add_to_cart_order  reordered  \\\n",
       "0                     NaN         196                  1          0   \n",
       "1                    15.0         196                  1          1   \n",
       "2                    21.0         196                  1          1   \n",
       "3                    29.0         196                  1          1   \n",
       "4                    28.0         196                  1          1   \n",
       "\n",
       "  product_name  ...  frequent_median          frequent_flag  gender    state  \\\n",
       "0         Soda  ...             20.5  Non-frequent customer  Female  Alabama   \n",
       "1         Soda  ...             20.5  Non-frequent customer  Female  Alabama   \n",
       "2         Soda  ...             20.5  Non-frequent customer  Female  Alabama   \n",
       "3         Soda  ...             20.5  Non-frequent customer  Female  Alabama   \n",
       "4         Soda  ...             20.5  Non-frequent customer  Female  Alabama   \n",
       "\n",
       "  age date_joined numbers_of_dependants family_status  income  True  \n",
       "0  31   2/17/2019                     3       married   40423  both  \n",
       "1  31   2/17/2019                     3       married   40423  both  \n",
       "2  31   2/17/2019                     3       married   40423  both  \n",
       "3  31   2/17/2019                     3       married   40423  both  \n",
       "4  31   2/17/2019                     3       married   40423  both  \n",
       "\n",
       "[5 rows x 32 columns]"
      ]
     },
     "execution_count": 5,
     "metadata": {},
     "output_type": "execute_result"
    }
   ],
   "source": [
    "df_ords_prods_custm.head()"
   ]
  },
  {
   "cell_type": "code",
   "execution_count": 6,
   "id": "780a6db9",
   "metadata": {},
   "outputs": [
    {
     "name": "stdout",
     "output_type": "stream",
     "text": [
      "<class 'pandas.core.frame.DataFrame'>\n",
      "Int64Index: 32434212 entries, 0 to 32434211\n",
      "Data columns (total 32 columns):\n",
      " #   Column                  Dtype   \n",
      "---  ------                  -----   \n",
      " 0   order_id                int64   \n",
      " 1   user_id                 object  \n",
      " 2   order_number            int64   \n",
      " 3   orders_day_of_week      int64   \n",
      " 4   order_hour_of_day       int64   \n",
      " 5   days_since_prior_order  float64 \n",
      " 6   product_id              int64   \n",
      " 7   add_to_cart_order       int64   \n",
      " 8   reordered               int64   \n",
      " 9   product_name            object  \n",
      " 10  aisle_id                int64   \n",
      " 11  department_id           int64   \n",
      " 12  prices                  float64 \n",
      " 13  _merge                  category\n",
      " 14  price_range_loc         object  \n",
      " 15  busiest_day             object  \n",
      " 16  Busiest_days            object  \n",
      " 17  busiest_period_of_day   object  \n",
      " 18  max_order               int64   \n",
      " 19  loyalty_flag            object  \n",
      " 20  avg_price               float64 \n",
      " 21  spending_loc            object  \n",
      " 22  frequent_median         float64 \n",
      " 23  frequent_flag           object  \n",
      " 24  gender                  object  \n",
      " 25  state                   object  \n",
      " 26  age                     int64   \n",
      " 27  date_joined             object  \n",
      " 28  numbers_of_dependants   int64   \n",
      " 29  family_status           object  \n",
      " 30  income                  int64   \n",
      " 31  True                    category\n",
      "dtypes: category(2), float64(4), int64(13), object(13)\n",
      "memory usage: 7.6+ GB\n"
     ]
    }
   ],
   "source": [
    "df_ords_prods_custm.info()"
   ]
  },
  {
   "cell_type": "markdown",
   "id": "cc00a3fe",
   "metadata": {},
   "source": [
    " "
   ]
  },
  {
   "cell_type": "markdown",
   "id": "5e2b1602",
   "metadata": {},
   "source": [
    " ##  4. Create a Region flag"
   ]
  },
  {
   "cell_type": "code",
   "execution_count": 7,
   "id": "8d7abb62",
   "metadata": {},
   "outputs": [
    {
     "data": {
      "text/plain": [
       "Pennsylvania            667710\n",
       "California              660447\n",
       "Rhode Island            657655\n",
       "Georgia                 657072\n",
       "New Mexico              655143\n",
       "Arizona                 654545\n",
       "North Carolina          652338\n",
       "Oklahoma                652263\n",
       "Alaska                  649020\n",
       "Minnesota               648408\n",
       "Massachusetts           647000\n",
       "Wyoming                 644929\n",
       "Virginia                642075\n",
       "Missouri                641313\n",
       "Texas                   641058\n",
       "Colorado                639752\n",
       "Maine                   639149\n",
       "North Dakota            638999\n",
       "Alabama                 638617\n",
       "Louisiana               638174\n",
       "Kansas                  637991\n",
       "Delaware                637447\n",
       "South Carolina          637348\n",
       "Oregon                  636949\n",
       "Arkansas                636706\n",
       "New York                636697\n",
       "Nevada                  636697\n",
       "Montana                 635835\n",
       "South Dakota            634340\n",
       "Illinois                633490\n",
       "Hawaii                  633445\n",
       "Washington              633421\n",
       "Mississippi             633103\n",
       "Kentucky                632905\n",
       "Michigan                631622\n",
       "Florida                 629582\n",
       "Ohio                    629001\n",
       "Wisconsin               628552\n",
       "New Jersey              628292\n",
       "Indiana                 627768\n",
       "Maryland                627278\n",
       "Nebraska                626297\n",
       "Iowa                    626029\n",
       "Connecticut             623582\n",
       "Tennessee               618396\n",
       "New Hampshire           616006\n",
       "District of Columbia    614293\n",
       "West Virginia           612955\n",
       "Utah                    612451\n",
       "Vermont                 612256\n",
       "Idaho                   607811\n",
       "Name: state, dtype: int64"
      ]
     },
     "execution_count": 7,
     "metadata": {},
     "output_type": "execute_result"
    }
   ],
   "source": [
    "#Checking to see the state names in our dataframe\n",
    "df_ords_prods_custm['state'].value_counts(dropna = False)"
   ]
  },
  {
   "cell_type": "code",
   "execution_count": 17,
   "id": "84ab5a9c",
   "metadata": {},
   "outputs": [],
   "source": [
    "# Creating list of regions\n",
    "northeast = ['Maine', 'New Hampshire', 'Vermont', 'Massachusetts', 'Rhode Island', 'Connecticut','New York','Pennsylvania','New Jersey']\n",
    "midwest = ['Wisconsin', 'Michigan', 'Illinois', 'Indiana', 'Ohio', 'North Dakota','South Dakota','Nebraska','Kansas','Minnesota','Iowa','Missouri']\n",
    "south = ['Delaware', 'Maryland', 'District of Columbia', 'Virginia', 'West Virginia','North Carolina','South Carolina','Georgia','Florida','Kentucky','Tennessee','Mississippi','Alabama','Oklahoma','Texas','Arkansas','Louisiana']\n",
    "west = ['Idaho', 'Montana', 'Wyoming', 'Nevada', 'Utah', 'Colorado', 'Arizona','New Mexico','Alaska','Washington','Oregon','California','Hawaii']"
   ]
  },
  {
   "cell_type": "code",
   "execution_count": 18,
   "id": "b87b5b78",
   "metadata": {},
   "outputs": [],
   "source": [
    "# Create a list from state column\n",
    "states = df_ords_prods_custm['state'].tolist()"
   ]
  },
  {
   "cell_type": "code",
   "execution_count": 19,
   "id": "7589f057",
   "metadata": {},
   "outputs": [],
   "source": [
    "# Assign region flag to list\n",
    "region_flags = []\n",
    "for row in df_ords_prods_custm['state']:\n",
    "    if row in northeast:\n",
    "        region_flags.append('Northeast')\n",
    "    elif row in midwest:\n",
    "        region_flags.append('Midwest')\n",
    "    elif row in south:\n",
    "        region_flags.append('South')\n",
    "    elif row in west:\n",
    "        region_flags.append('West')\n",
    "    else:\n",
    "        print(row + ' Cannot recognize state')      "
   ]
  },
  {
   "cell_type": "code",
   "execution_count": 20,
   "id": "03bc9083",
   "metadata": {},
   "outputs": [],
   "source": [
    "# create a new region column from region_flags list\n",
    "df_ords_prods_custm['region'] = region_flags"
   ]
  },
  {
   "cell_type": "code",
   "execution_count": 12,
   "id": "605eaa1b",
   "metadata": {},
   "outputs": [
    {
     "data": {
      "text/plain": [
       "South        10801610\n",
       "West          8300445\n",
       "Midwest       7603810\n",
       "Northeast     5728347\n",
       "Name: region, dtype: int64"
      ]
     },
     "execution_count": 12,
     "metadata": {},
     "output_type": "execute_result"
    }
   ],
   "source": [
    "df_ords_prods_custm['region'].value_counts(dropna = False)"
   ]
  },
  {
   "cell_type": "code",
   "execution_count": 13,
   "id": "c0aa590f",
   "metadata": {},
   "outputs": [],
   "source": [
    "regional_spending_crosstab = pd.crosstab(df_ords_prods_custm['region'], df_ords_prods_custm['spending_loc'], dropna = False)"
   ]
  },
  {
   "cell_type": "code",
   "execution_count": 14,
   "id": "6ce7bbaf",
   "metadata": {},
   "outputs": [
    {
     "data": {
      "text/html": [
       "<div>\n",
       "<style scoped>\n",
       "    .dataframe tbody tr th:only-of-type {\n",
       "        vertical-align: middle;\n",
       "    }\n",
       "\n",
       "    .dataframe tbody tr th {\n",
       "        vertical-align: top;\n",
       "    }\n",
       "\n",
       "    .dataframe thead th {\n",
       "        text-align: right;\n",
       "    }\n",
       "</style>\n",
       "<table border=\"1\" class=\"dataframe\">\n",
       "  <thead>\n",
       "    <tr style=\"text-align: right;\">\n",
       "      <th>spending_loc</th>\n",
       "      <th>High spender</th>\n",
       "      <th>Low spender</th>\n",
       "    </tr>\n",
       "    <tr>\n",
       "      <th>region</th>\n",
       "      <th></th>\n",
       "      <th></th>\n",
       "    </tr>\n",
       "  </thead>\n",
       "  <tbody>\n",
       "    <tr>\n",
       "      <th>Midwest</th>\n",
       "      <td>156129</td>\n",
       "      <td>7447681</td>\n",
       "    </tr>\n",
       "    <tr>\n",
       "      <th>Northeast</th>\n",
       "      <td>108343</td>\n",
       "      <td>5620004</td>\n",
       "    </tr>\n",
       "    <tr>\n",
       "      <th>South</th>\n",
       "      <td>210182</td>\n",
       "      <td>10591428</td>\n",
       "    </tr>\n",
       "    <tr>\n",
       "      <th>West</th>\n",
       "      <td>160807</td>\n",
       "      <td>8139638</td>\n",
       "    </tr>\n",
       "  </tbody>\n",
       "</table>\n",
       "</div>"
      ],
      "text/plain": [
       "spending_loc  High spender  Low spender\n",
       "region                                 \n",
       "Midwest             156129      7447681\n",
       "Northeast           108343      5620004\n",
       "South               210182     10591428\n",
       "West                160807      8139638"
      ]
     },
     "execution_count": 14,
     "metadata": {},
     "output_type": "execute_result"
    }
   ],
   "source": [
    "regional_spending_crosstab.head()"
   ]
  },
  {
   "cell_type": "markdown",
   "id": "8585fb2d",
   "metadata": {},
   "source": [
    "## 5. Create exclusion flag for low-activity customers"
   ]
  },
  {
   "cell_type": "code",
   "execution_count": 15,
   "id": "c889530d",
   "metadata": {},
   "outputs": [],
   "source": [
    "\n",
    "df_ords_prods_custm.loc[df_ords_prods_custm['max_order'] < 5, 'activity_flag'] = 'Low-activity customers'"
   ]
  },
  {
   "cell_type": "code",
   "execution_count": 16,
   "id": "74393bed",
   "metadata": {},
   "outputs": [],
   "source": [
    "\n",
    "df_ords_prods_custm.loc[df_ords_prods_custm['max_order'] >= 5, 'activity_flag'] = 'High-activity customers'"
   ]
  },
  {
   "cell_type": "code",
   "execution_count": 17,
   "id": "330ffd53",
   "metadata": {},
   "outputs": [
    {
     "data": {
      "text/plain": [
       "High-activity customers    30992664\n",
       "Low-activity customers      1441548\n",
       "Name: activity_flag, dtype: int64"
      ]
     },
     "execution_count": 17,
     "metadata": {},
     "output_type": "execute_result"
    }
   ],
   "source": [
    "\n",
    "df_ords_prods_custm['activity_flag'].value_counts(dropna = False)"
   ]
  },
  {
   "cell_type": "code",
   "execution_count": 18,
   "id": "14b04996",
   "metadata": {},
   "outputs": [],
   "source": [
    "df_low_order_customers = df_ords_prods_custm[df_ords_prods_custm['activity_flag'] == 'Low order customer']"
   ]
  },
  {
   "cell_type": "code",
   "execution_count": 19,
   "id": "56d18e30",
   "metadata": {},
   "outputs": [
    {
     "data": {
      "text/html": [
       "<div>\n",
       "<style scoped>\n",
       "    .dataframe tbody tr th:only-of-type {\n",
       "        vertical-align: middle;\n",
       "    }\n",
       "\n",
       "    .dataframe tbody tr th {\n",
       "        vertical-align: top;\n",
       "    }\n",
       "\n",
       "    .dataframe thead th {\n",
       "        text-align: right;\n",
       "    }\n",
       "</style>\n",
       "<table border=\"1\" class=\"dataframe\">\n",
       "  <thead>\n",
       "    <tr style=\"text-align: right;\">\n",
       "      <th></th>\n",
       "      <th>order_id</th>\n",
       "      <th>user_id</th>\n",
       "      <th>order_number</th>\n",
       "      <th>orders_day_of_week</th>\n",
       "      <th>order_hour_of_day</th>\n",
       "      <th>days_since_prior_order</th>\n",
       "      <th>product_id</th>\n",
       "      <th>add_to_cart_order</th>\n",
       "      <th>reordered</th>\n",
       "      <th>product_name</th>\n",
       "      <th>...</th>\n",
       "      <th>gender</th>\n",
       "      <th>state</th>\n",
       "      <th>age</th>\n",
       "      <th>date_joined</th>\n",
       "      <th>numbers_of_dependants</th>\n",
       "      <th>family_status</th>\n",
       "      <th>income</th>\n",
       "      <th>True</th>\n",
       "      <th>region</th>\n",
       "      <th>activity_flag</th>\n",
       "    </tr>\n",
       "  </thead>\n",
       "  <tbody>\n",
       "  </tbody>\n",
       "</table>\n",
       "<p>0 rows × 34 columns</p>\n",
       "</div>"
      ],
      "text/plain": [
       "Empty DataFrame\n",
       "Columns: [order_id, user_id, order_number, orders_day_of_week, order_hour_of_day, days_since_prior_order, product_id, add_to_cart_order, reordered, product_name, aisle_id, department_id, prices, _merge, price_range_loc, busiest_day, Busiest_days, busiest_period_of_day, max_order, loyalty_flag, avg_price, spending_loc, frequent_median, frequent_flag, gender, state, age, date_joined, numbers_of_dependants, family_status, income, True, region, activity_flag]\n",
       "Index: []\n",
       "\n",
       "[0 rows x 34 columns]"
      ]
     },
     "execution_count": 19,
     "metadata": {},
     "output_type": "execute_result"
    }
   ],
   "source": [
    "df_low_order_customers.head()"
   ]
  },
  {
   "cell_type": "code",
   "execution_count": 20,
   "id": "ec583d79",
   "metadata": {},
   "outputs": [],
   "source": [
    "#Exporting data\n",
    "df_low_order_customers.to_pickle(os.path.join(path, '02 Data','Prepared Data', 'low_order_customer.pkl'))"
   ]
  },
  {
   "cell_type": "markdown",
   "id": "dfe98986",
   "metadata": {},
   "source": [
    "## 6. Create customer Profiles"
   ]
  },
  {
   "cell_type": "code",
   "execution_count": 21,
   "id": "b7aec2ad",
   "metadata": {},
   "outputs": [
    {
     "data": {
      "text/html": [
       "<div>\n",
       "<style scoped>\n",
       "    .dataframe tbody tr th:only-of-type {\n",
       "        vertical-align: middle;\n",
       "    }\n",
       "\n",
       "    .dataframe tbody tr th {\n",
       "        vertical-align: top;\n",
       "    }\n",
       "\n",
       "    .dataframe thead th {\n",
       "        text-align: right;\n",
       "    }\n",
       "</style>\n",
       "<table border=\"1\" class=\"dataframe\">\n",
       "  <thead>\n",
       "    <tr style=\"text-align: right;\">\n",
       "      <th></th>\n",
       "      <th>order_id</th>\n",
       "      <th>user_id</th>\n",
       "      <th>order_number</th>\n",
       "      <th>orders_day_of_week</th>\n",
       "      <th>order_hour_of_day</th>\n",
       "      <th>days_since_prior_order</th>\n",
       "      <th>product_id</th>\n",
       "      <th>add_to_cart_order</th>\n",
       "      <th>reordered</th>\n",
       "      <th>product_name</th>\n",
       "      <th>...</th>\n",
       "      <th>gender</th>\n",
       "      <th>state</th>\n",
       "      <th>age</th>\n",
       "      <th>date_joined</th>\n",
       "      <th>numbers_of_dependants</th>\n",
       "      <th>family_status</th>\n",
       "      <th>income</th>\n",
       "      <th>True</th>\n",
       "      <th>region</th>\n",
       "      <th>activity_flag</th>\n",
       "    </tr>\n",
       "  </thead>\n",
       "  <tbody>\n",
       "    <tr>\n",
       "      <th>0</th>\n",
       "      <td>2539329</td>\n",
       "      <td>1</td>\n",
       "      <td>1</td>\n",
       "      <td>2</td>\n",
       "      <td>8</td>\n",
       "      <td>NaN</td>\n",
       "      <td>196</td>\n",
       "      <td>1</td>\n",
       "      <td>0</td>\n",
       "      <td>Soda</td>\n",
       "      <td>...</td>\n",
       "      <td>Female</td>\n",
       "      <td>Alabama</td>\n",
       "      <td>31</td>\n",
       "      <td>2/17/2019</td>\n",
       "      <td>3</td>\n",
       "      <td>married</td>\n",
       "      <td>40423</td>\n",
       "      <td>both</td>\n",
       "      <td>South</td>\n",
       "      <td>High-activity customers</td>\n",
       "    </tr>\n",
       "    <tr>\n",
       "      <th>1</th>\n",
       "      <td>2398795</td>\n",
       "      <td>1</td>\n",
       "      <td>2</td>\n",
       "      <td>3</td>\n",
       "      <td>7</td>\n",
       "      <td>15.0</td>\n",
       "      <td>196</td>\n",
       "      <td>1</td>\n",
       "      <td>1</td>\n",
       "      <td>Soda</td>\n",
       "      <td>...</td>\n",
       "      <td>Female</td>\n",
       "      <td>Alabama</td>\n",
       "      <td>31</td>\n",
       "      <td>2/17/2019</td>\n",
       "      <td>3</td>\n",
       "      <td>married</td>\n",
       "      <td>40423</td>\n",
       "      <td>both</td>\n",
       "      <td>South</td>\n",
       "      <td>High-activity customers</td>\n",
       "    </tr>\n",
       "    <tr>\n",
       "      <th>2</th>\n",
       "      <td>473747</td>\n",
       "      <td>1</td>\n",
       "      <td>3</td>\n",
       "      <td>3</td>\n",
       "      <td>12</td>\n",
       "      <td>21.0</td>\n",
       "      <td>196</td>\n",
       "      <td>1</td>\n",
       "      <td>1</td>\n",
       "      <td>Soda</td>\n",
       "      <td>...</td>\n",
       "      <td>Female</td>\n",
       "      <td>Alabama</td>\n",
       "      <td>31</td>\n",
       "      <td>2/17/2019</td>\n",
       "      <td>3</td>\n",
       "      <td>married</td>\n",
       "      <td>40423</td>\n",
       "      <td>both</td>\n",
       "      <td>South</td>\n",
       "      <td>High-activity customers</td>\n",
       "    </tr>\n",
       "    <tr>\n",
       "      <th>3</th>\n",
       "      <td>2254736</td>\n",
       "      <td>1</td>\n",
       "      <td>4</td>\n",
       "      <td>4</td>\n",
       "      <td>7</td>\n",
       "      <td>29.0</td>\n",
       "      <td>196</td>\n",
       "      <td>1</td>\n",
       "      <td>1</td>\n",
       "      <td>Soda</td>\n",
       "      <td>...</td>\n",
       "      <td>Female</td>\n",
       "      <td>Alabama</td>\n",
       "      <td>31</td>\n",
       "      <td>2/17/2019</td>\n",
       "      <td>3</td>\n",
       "      <td>married</td>\n",
       "      <td>40423</td>\n",
       "      <td>both</td>\n",
       "      <td>South</td>\n",
       "      <td>High-activity customers</td>\n",
       "    </tr>\n",
       "    <tr>\n",
       "      <th>4</th>\n",
       "      <td>431534</td>\n",
       "      <td>1</td>\n",
       "      <td>5</td>\n",
       "      <td>4</td>\n",
       "      <td>15</td>\n",
       "      <td>28.0</td>\n",
       "      <td>196</td>\n",
       "      <td>1</td>\n",
       "      <td>1</td>\n",
       "      <td>Soda</td>\n",
       "      <td>...</td>\n",
       "      <td>Female</td>\n",
       "      <td>Alabama</td>\n",
       "      <td>31</td>\n",
       "      <td>2/17/2019</td>\n",
       "      <td>3</td>\n",
       "      <td>married</td>\n",
       "      <td>40423</td>\n",
       "      <td>both</td>\n",
       "      <td>South</td>\n",
       "      <td>High-activity customers</td>\n",
       "    </tr>\n",
       "    <tr>\n",
       "      <th>...</th>\n",
       "      <td>...</td>\n",
       "      <td>...</td>\n",
       "      <td>...</td>\n",
       "      <td>...</td>\n",
       "      <td>...</td>\n",
       "      <td>...</td>\n",
       "      <td>...</td>\n",
       "      <td>...</td>\n",
       "      <td>...</td>\n",
       "      <td>...</td>\n",
       "      <td>...</td>\n",
       "      <td>...</td>\n",
       "      <td>...</td>\n",
       "      <td>...</td>\n",
       "      <td>...</td>\n",
       "      <td>...</td>\n",
       "      <td>...</td>\n",
       "      <td>...</td>\n",
       "      <td>...</td>\n",
       "      <td>...</td>\n",
       "      <td>...</td>\n",
       "    </tr>\n",
       "    <tr>\n",
       "      <th>95</th>\n",
       "      <td>3317979</td>\n",
       "      <td>15</td>\n",
       "      <td>5</td>\n",
       "      <td>4</td>\n",
       "      <td>15</td>\n",
       "      <td>17.0</td>\n",
       "      <td>14715</td>\n",
       "      <td>1</td>\n",
       "      <td>1</td>\n",
       "      <td>Coconut Water</td>\n",
       "      <td>...</td>\n",
       "      <td>Female</td>\n",
       "      <td>Indiana</td>\n",
       "      <td>69</td>\n",
       "      <td>6/3/2019</td>\n",
       "      <td>0</td>\n",
       "      <td>divorced/widowed</td>\n",
       "      <td>54313</td>\n",
       "      <td>both</td>\n",
       "      <td>Midwest</td>\n",
       "      <td>High-activity customers</td>\n",
       "    </tr>\n",
       "    <tr>\n",
       "      <th>96</th>\n",
       "      <td>2685110</td>\n",
       "      <td>15</td>\n",
       "      <td>7</td>\n",
       "      <td>1</td>\n",
       "      <td>11</td>\n",
       "      <td>17.0</td>\n",
       "      <td>14715</td>\n",
       "      <td>3</td>\n",
       "      <td>1</td>\n",
       "      <td>Coconut Water</td>\n",
       "      <td>...</td>\n",
       "      <td>Female</td>\n",
       "      <td>Indiana</td>\n",
       "      <td>69</td>\n",
       "      <td>6/3/2019</td>\n",
       "      <td>0</td>\n",
       "      <td>divorced/widowed</td>\n",
       "      <td>54313</td>\n",
       "      <td>both</td>\n",
       "      <td>Midwest</td>\n",
       "      <td>High-activity customers</td>\n",
       "    </tr>\n",
       "    <tr>\n",
       "      <th>97</th>\n",
       "      <td>887727</td>\n",
       "      <td>15</td>\n",
       "      <td>9</td>\n",
       "      <td>2</td>\n",
       "      <td>13</td>\n",
       "      <td>7.0</td>\n",
       "      <td>14715</td>\n",
       "      <td>1</td>\n",
       "      <td>1</td>\n",
       "      <td>Coconut Water</td>\n",
       "      <td>...</td>\n",
       "      <td>Female</td>\n",
       "      <td>Indiana</td>\n",
       "      <td>69</td>\n",
       "      <td>6/3/2019</td>\n",
       "      <td>0</td>\n",
       "      <td>divorced/widowed</td>\n",
       "      <td>54313</td>\n",
       "      <td>both</td>\n",
       "      <td>Midwest</td>\n",
       "      <td>High-activity customers</td>\n",
       "    </tr>\n",
       "    <tr>\n",
       "      <th>98</th>\n",
       "      <td>2600170</td>\n",
       "      <td>15</td>\n",
       "      <td>11</td>\n",
       "      <td>2</td>\n",
       "      <td>9</td>\n",
       "      <td>14.0</td>\n",
       "      <td>14715</td>\n",
       "      <td>1</td>\n",
       "      <td>1</td>\n",
       "      <td>Coconut Water</td>\n",
       "      <td>...</td>\n",
       "      <td>Female</td>\n",
       "      <td>Indiana</td>\n",
       "      <td>69</td>\n",
       "      <td>6/3/2019</td>\n",
       "      <td>0</td>\n",
       "      <td>divorced/widowed</td>\n",
       "      <td>54313</td>\n",
       "      <td>both</td>\n",
       "      <td>Midwest</td>\n",
       "      <td>High-activity customers</td>\n",
       "    </tr>\n",
       "    <tr>\n",
       "      <th>99</th>\n",
       "      <td>2332087</td>\n",
       "      <td>15</td>\n",
       "      <td>13</td>\n",
       "      <td>1</td>\n",
       "      <td>10</td>\n",
       "      <td>14.0</td>\n",
       "      <td>14715</td>\n",
       "      <td>3</td>\n",
       "      <td>1</td>\n",
       "      <td>Coconut Water</td>\n",
       "      <td>...</td>\n",
       "      <td>Female</td>\n",
       "      <td>Indiana</td>\n",
       "      <td>69</td>\n",
       "      <td>6/3/2019</td>\n",
       "      <td>0</td>\n",
       "      <td>divorced/widowed</td>\n",
       "      <td>54313</td>\n",
       "      <td>both</td>\n",
       "      <td>Midwest</td>\n",
       "      <td>High-activity customers</td>\n",
       "    </tr>\n",
       "  </tbody>\n",
       "</table>\n",
       "<p>100 rows × 34 columns</p>\n",
       "</div>"
      ],
      "text/plain": [
       "    order_id user_id  order_number  orders_day_of_week  order_hour_of_day  \\\n",
       "0    2539329       1             1                   2                  8   \n",
       "1    2398795       1             2                   3                  7   \n",
       "2     473747       1             3                   3                 12   \n",
       "3    2254736       1             4                   4                  7   \n",
       "4     431534       1             5                   4                 15   \n",
       "..       ...     ...           ...                 ...                ...   \n",
       "95   3317979      15             5                   4                 15   \n",
       "96   2685110      15             7                   1                 11   \n",
       "97    887727      15             9                   2                 13   \n",
       "98   2600170      15            11                   2                  9   \n",
       "99   2332087      15            13                   1                 10   \n",
       "\n",
       "    days_since_prior_order  product_id  add_to_cart_order  reordered  \\\n",
       "0                      NaN         196                  1          0   \n",
       "1                     15.0         196                  1          1   \n",
       "2                     21.0         196                  1          1   \n",
       "3                     29.0         196                  1          1   \n",
       "4                     28.0         196                  1          1   \n",
       "..                     ...         ...                ...        ...   \n",
       "95                    17.0       14715                  1          1   \n",
       "96                    17.0       14715                  3          1   \n",
       "97                     7.0       14715                  1          1   \n",
       "98                    14.0       14715                  1          1   \n",
       "99                    14.0       14715                  3          1   \n",
       "\n",
       "     product_name  ...  gender    state  age date_joined  \\\n",
       "0            Soda  ...  Female  Alabama   31   2/17/2019   \n",
       "1            Soda  ...  Female  Alabama   31   2/17/2019   \n",
       "2            Soda  ...  Female  Alabama   31   2/17/2019   \n",
       "3            Soda  ...  Female  Alabama   31   2/17/2019   \n",
       "4            Soda  ...  Female  Alabama   31   2/17/2019   \n",
       "..            ...  ...     ...      ...  ...         ...   \n",
       "95  Coconut Water  ...  Female  Indiana   69    6/3/2019   \n",
       "96  Coconut Water  ...  Female  Indiana   69    6/3/2019   \n",
       "97  Coconut Water  ...  Female  Indiana   69    6/3/2019   \n",
       "98  Coconut Water  ...  Female  Indiana   69    6/3/2019   \n",
       "99  Coconut Water  ...  Female  Indiana   69    6/3/2019   \n",
       "\n",
       "   numbers_of_dependants     family_status income  True   region  \\\n",
       "0                      3           married  40423  both    South   \n",
       "1                      3           married  40423  both    South   \n",
       "2                      3           married  40423  both    South   \n",
       "3                      3           married  40423  both    South   \n",
       "4                      3           married  40423  both    South   \n",
       "..                   ...               ...    ...   ...      ...   \n",
       "95                     0  divorced/widowed  54313  both  Midwest   \n",
       "96                     0  divorced/widowed  54313  both  Midwest   \n",
       "97                     0  divorced/widowed  54313  both  Midwest   \n",
       "98                     0  divorced/widowed  54313  both  Midwest   \n",
       "99                     0  divorced/widowed  54313  both  Midwest   \n",
       "\n",
       "              activity_flag  \n",
       "0   High-activity customers  \n",
       "1   High-activity customers  \n",
       "2   High-activity customers  \n",
       "3   High-activity customers  \n",
       "4   High-activity customers  \n",
       "..                      ...  \n",
       "95  High-activity customers  \n",
       "96  High-activity customers  \n",
       "97  High-activity customers  \n",
       "98  High-activity customers  \n",
       "99  High-activity customers  \n",
       "\n",
       "[100 rows x 34 columns]"
      ]
     },
     "execution_count": 21,
     "metadata": {},
     "output_type": "execute_result"
    }
   ],
   "source": [
    "df_ords_prods_custm.head(100)"
   ]
  },
  {
   "cell_type": "markdown",
   "id": "9fc8e8b5",
   "metadata": {},
   "source": [
    "I can create flags related to age, income, and \"numbers_of_dependants\" numbers_of_dependants\n",
    "- Young (<=25), Middle-Aged(26-59), Senior (60+)\n",
    "- Low-income, Mid-income, High-income\n",
    "- Singe Parent, Partnered, No Child"
   ]
  },
  {
   "cell_type": "code",
   "execution_count": 30,
   "id": "67be479f",
   "metadata": {},
   "outputs": [],
   "source": [
    "# single\n",
    "df_ords_prods_custm.loc[(df_ords_prods_custm['numbers_of_dependants'] >= 1) & (df_ords_prods_custm['income'] < 50000), 'dep_profile'] = 'Single'\n",
    "\n",
    "# partnered\n",
    "df_ords_prods_custm.loc[(df_ords_prods_custm['numbers_of_dependants'] >= 1) & (df_ords_prods_custm['income'] >= 50000), 'dep_profile'] = 'Partnered'\n",
    "\n",
    "# No Child\n",
    "df_ords_prods_custm.loc[(df_ords_prods_custm['numbers_of_dependants'] < 1), 'dep_profile'] = 'No-Child'\n",
    "\n",
    "# Middle-Aged\n",
    "df_ords_prods_custm.loc[(df_ords_prods_custm['age'] > 25) & df_ords_prods_custm['age'] <= 59, 'age_profile'] = 'Middle-Aged'\n",
    "\n",
    "# Senior\n",
    "df_ords_prods_custm.loc[(df_ords_prods_custm['age'] >= 60), 'age_profile'] = 'Senior'\n",
    "\n",
    "# Young\n",
    "df_ords_prods_custm.loc[(df_ords_prods_custm['age'] <= 25), 'age_profile'] = 'Young'\n",
    "\n",
    "# Mid-income\n",
    "df_ords_prods_custm.loc[(df_ords_prods_custm['income'] >= 40000) & df_ords_prods_custm['income'] < 100000, 'income_profile'] = 'Mid-income'\n",
    "\n",
    "# High-income\n",
    "df_ords_prods_custm.loc[(df_ords_prods_custm['income'] >= 100000), 'income_profile'] = 'High-income'\n",
    "\n",
    "# Low-income\n",
    "df_ords_prods_custm.loc[(df_ords_prods_custm['income'] < 40000), 'income_profile'] = 'Low-income'\n"
   ]
  },
  {
   "cell_type": "code",
   "execution_count": 23,
   "id": "27039703",
   "metadata": {},
   "outputs": [
    {
     "data": {
      "text/plain": [
       "Partnered    21636033\n",
       "No-Child      8105197\n",
       "Single        2692982\n",
       "Name: dep_profile, dtype: int64"
      ]
     },
     "execution_count": 23,
     "metadata": {},
     "output_type": "execute_result"
    }
   ],
   "source": [
    "df_ords_prods_custm['dep_profile'].value_counts(dropna = False)"
   ]
  },
  {
   "cell_type": "code",
   "execution_count": 13,
   "id": "a44c5b9a",
   "metadata": {},
   "outputs": [
    {
     "data": {
      "text/plain": [
       "Middle-Aged    17308053\n",
       "Senior         11077150\n",
       "Young           4049009\n",
       "Name: age_profile, dtype: int64"
      ]
     },
     "execution_count": 13,
     "metadata": {},
     "output_type": "execute_result"
    }
   ],
   "source": [
    "df_ords_prods_custm['age_profile'].value_counts(dropna = False)"
   ]
  },
  {
   "cell_type": "code",
   "execution_count": 31,
   "id": "649e032b",
   "metadata": {},
   "outputs": [
    {
     "data": {
      "text/plain": [
       "Mid-income     15877883\n",
       "High-income    14827337\n",
       "Low-income      1728992\n",
       "Name: income_profile, dtype: int64"
      ]
     },
     "execution_count": 31,
     "metadata": {},
     "output_type": "execute_result"
    }
   ],
   "source": [
    "df_ords_prods_custm['income_profile'].value_counts(dropna = False)"
   ]
  },
  {
   "cell_type": "markdown",
   "id": "a55a1db2",
   "metadata": {},
   "source": [
    "# 7. Visualizing profiles"
   ]
  },
  {
   "cell_type": "code",
   "execution_count": 33,
   "id": "5213dc34",
   "metadata": {},
   "outputs": [],
   "source": [
    "df_profiles = df_ords_prods_custm[['user_id',\"region\", 'age_profile', 'income_profile', 'dep_profile']]\n",
    "df_customer_profiles = df_profiles.groupby('user_id').first()"
   ]
  },
  {
   "cell_type": "code",
   "execution_count": 35,
   "id": "b8ab2ba8",
   "metadata": {},
   "outputs": [
    {
     "data": {
      "image/png": "[encoded data removed]",
      "text/plain": [
       "<Figure size 640x480 with 1 Axes>"
      ]
     },
     "metadata": {},
     "output_type": "display_data"
    }
   ],
   "source": [
    "plt = df_customer_profiles['income_profile'].value_counts().plot.bar(color = ['royalblue', 'orange', 'khaki'], \n",
    "                                                                     title=\"Income Profiles\",\n",
    "                                                                     xlabel=\"Profile\",\n",
    "                                                                     ylabel=\"Income\"\n",
    "                                                                    )\n",
    "plt.figure.savefig(os.path.join(path, '04 Analysis','Visualizations', 'income_profile_distribution.png'))"
   ]
  },
  {
   "cell_type": "code",
   "execution_count": 26,
   "id": "8cacb453",
   "metadata": {
    "scrolled": true
   },
   "outputs": [
    {
     "data": {
      "image/png": "[encoded data removed]",
      "text/plain": [
       "<Figure size 640x480 with 1 Axes>"
      ]
     },
     "metadata": {},
     "output_type": "display_data"
    }
   ],
   "source": [
    "plt = df_customer_profiles['age_profile'].value_counts().plot.bar(color = ['royalblue', 'orange', 'khaki'], \n",
    "                                                                  title = \"Age Profiles\",\n",
    "                                                                  xlabel=\"Profile\",\n",
    "                                                                  ylabel=\"Income\")\n",
    "plt.figure.savefig(os.path.join(path, '04 Analysis','Visualizations', 'age_profile_distribution.png'))"
   ]
  },
  {
   "cell_type": "code",
   "execution_count": 36,
   "id": "a2c02c33",
   "metadata": {},
   "outputs": [
    {
     "data": {
      "image/png": "[encoded data removed]",
      "text/plain": [
       "<Figure size 800x600 with 1 Axes>"
      ]
     },
     "metadata": {},
     "output_type": "display_data"
    }
   ],
   "source": [
    "pie_chart = df_customer_profiles['dep_profile'].value_counts().plot.pie(figsize = (8,6), \n",
    "                                                                        colors = sns.color_palette( ['royalblue', 'orange', 'khaki']), \n",
    "                                                                        autopct = '%1.0f%%', \n",
    "                                                                        title =\"Percentage of Dependants Profiles\",\n",
    "                                                                        xlabel=\"\",\n",
    "                                                                        ylabel=\"\",)\n",
    "pie_chart.figure.savefig(os.path.join(path, '04 Analysis','Visualizations', 'dep_profile_pie.png'))"
   ]
  },
  {
   "cell_type": "markdown",
   "id": "0db15e11",
   "metadata": {},
   "source": [
    "# 8. Customer profile level statistics"
   ]
  },
  {
   "cell_type": "code",
   "execution_count": 30,
   "id": "0188300b",
   "metadata": {},
   "outputs": [
    {
     "data": {
      "text/html": [
       "<div>\n",
       "<style scoped>\n",
       "    .dataframe tbody tr th:only-of-type {\n",
       "        vertical-align: middle;\n",
       "    }\n",
       "\n",
       "    .dataframe tbody tr th {\n",
       "        vertical-align: top;\n",
       "    }\n",
       "\n",
       "    .dataframe thead tr th {\n",
       "        text-align: left;\n",
       "    }\n",
       "\n",
       "    .dataframe thead tr:last-of-type th {\n",
       "        text-align: right;\n",
       "    }\n",
       "</style>\n",
       "<table border=\"1\" class=\"dataframe\">\n",
       "  <thead>\n",
       "    <tr>\n",
       "      <th></th>\n",
       "      <th colspan=\"3\" halign=\"left\">prices</th>\n",
       "      <th colspan=\"3\" halign=\"left\">days_since_prior_order</th>\n",
       "    </tr>\n",
       "    <tr>\n",
       "      <th></th>\n",
       "      <th>mean</th>\n",
       "      <th>max</th>\n",
       "      <th>min</th>\n",
       "      <th>mean</th>\n",
       "      <th>max</th>\n",
       "      <th>min</th>\n",
       "    </tr>\n",
       "    <tr>\n",
       "      <th>age_profile</th>\n",
       "      <th></th>\n",
       "      <th></th>\n",
       "      <th></th>\n",
       "      <th></th>\n",
       "      <th></th>\n",
       "      <th></th>\n",
       "    </tr>\n",
       "  </thead>\n",
       "  <tbody>\n",
       "    <tr>\n",
       "      <th>Middle-Aged</th>\n",
       "      <td>12.093500</td>\n",
       "      <td>99999.0</td>\n",
       "      <td>1.0</td>\n",
       "      <td>11.110020</td>\n",
       "      <td>30.0</td>\n",
       "      <td>0.0</td>\n",
       "    </tr>\n",
       "    <tr>\n",
       "      <th>Senior</th>\n",
       "      <td>11.764519</td>\n",
       "      <td>99999.0</td>\n",
       "      <td>1.0</td>\n",
       "      <td>11.092861</td>\n",
       "      <td>30.0</td>\n",
       "      <td>0.0</td>\n",
       "    </tr>\n",
       "  </tbody>\n",
       "</table>\n",
       "</div>"
      ],
      "text/plain": [
       "                prices               days_since_prior_order           \n",
       "                  mean      max  min                   mean   max  min\n",
       "age_profile                                                           \n",
       "Middle-Aged  12.093500  99999.0  1.0              11.110020  30.0  0.0\n",
       "Senior       11.764519  99999.0  1.0              11.092861  30.0  0.0"
      ]
     },
     "execution_count": 30,
     "metadata": {},
     "output_type": "execute_result"
    }
   ],
   "source": [
    "# Age profile\n",
    "df_ords_prods_custm.groupby('age_profile').agg({'prices': ['mean', 'max', 'min'], 'days_since_prior_order': ['mean', 'max', 'min']})"
   ]
  },
  {
   "cell_type": "code",
   "execution_count": 31,
   "id": "d1b2ddc4",
   "metadata": {},
   "outputs": [
    {
     "data": {
      "text/html": [
       "<div>\n",
       "<style scoped>\n",
       "    .dataframe tbody tr th:only-of-type {\n",
       "        vertical-align: middle;\n",
       "    }\n",
       "\n",
       "    .dataframe tbody tr th {\n",
       "        vertical-align: top;\n",
       "    }\n",
       "\n",
       "    .dataframe thead tr th {\n",
       "        text-align: left;\n",
       "    }\n",
       "\n",
       "    .dataframe thead tr:last-of-type th {\n",
       "        text-align: right;\n",
       "    }\n",
       "</style>\n",
       "<table border=\"1\" class=\"dataframe\">\n",
       "  <thead>\n",
       "    <tr>\n",
       "      <th></th>\n",
       "      <th colspan=\"3\" halign=\"left\">prices</th>\n",
       "      <th colspan=\"3\" halign=\"left\">days_since_prior_order</th>\n",
       "    </tr>\n",
       "    <tr>\n",
       "      <th></th>\n",
       "      <th>mean</th>\n",
       "      <th>max</th>\n",
       "      <th>min</th>\n",
       "      <th>mean</th>\n",
       "      <th>max</th>\n",
       "      <th>min</th>\n",
       "    </tr>\n",
       "    <tr>\n",
       "      <th>income_profile</th>\n",
       "      <th></th>\n",
       "      <th></th>\n",
       "      <th></th>\n",
       "      <th></th>\n",
       "      <th></th>\n",
       "      <th></th>\n",
       "    </tr>\n",
       "  </thead>\n",
       "  <tbody>\n",
       "    <tr>\n",
       "      <th>High-income</th>\n",
       "      <td>16.57655</td>\n",
       "      <td>99999.0</td>\n",
       "      <td>1.0</td>\n",
       "      <td>11.040148</td>\n",
       "      <td>30.0</td>\n",
       "      <td>0.0</td>\n",
       "    </tr>\n",
       "    <tr>\n",
       "      <th>Mid-income</th>\n",
       "      <td>8.11120</td>\n",
       "      <td>99999.0</td>\n",
       "      <td>1.0</td>\n",
       "      <td>11.158202</td>\n",
       "      <td>30.0</td>\n",
       "      <td>0.0</td>\n",
       "    </tr>\n",
       "  </tbody>\n",
       "</table>\n",
       "</div>"
      ],
      "text/plain": [
       "                  prices               days_since_prior_order           \n",
       "                    mean      max  min                   mean   max  min\n",
       "income_profile                                                          \n",
       "High-income     16.57655  99999.0  1.0              11.040148  30.0  0.0\n",
       "Mid-income       8.11120  99999.0  1.0              11.158202  30.0  0.0"
      ]
     },
     "execution_count": 31,
     "metadata": {},
     "output_type": "execute_result"
    }
   ],
   "source": [
    "# Income profile\n",
    "df_ords_prods_custm.groupby('income_profile').agg({'prices': ['mean', 'max', 'min'], 'days_since_prior_order': ['mean', 'max', 'min']})"
   ]
  },
  {
   "cell_type": "code",
   "execution_count": 32,
   "id": "0f91c6c3",
   "metadata": {},
   "outputs": [
    {
     "data": {
      "text/html": [
       "<div>\n",
       "<style scoped>\n",
       "    .dataframe tbody tr th:only-of-type {\n",
       "        vertical-align: middle;\n",
       "    }\n",
       "\n",
       "    .dataframe tbody tr th {\n",
       "        vertical-align: top;\n",
       "    }\n",
       "\n",
       "    .dataframe thead tr th {\n",
       "        text-align: left;\n",
       "    }\n",
       "\n",
       "    .dataframe thead tr:last-of-type th {\n",
       "        text-align: right;\n",
       "    }\n",
       "</style>\n",
       "<table border=\"1\" class=\"dataframe\">\n",
       "  <thead>\n",
       "    <tr>\n",
       "      <th></th>\n",
       "      <th colspan=\"3\" halign=\"left\">prices</th>\n",
       "      <th colspan=\"3\" halign=\"left\">days_since_prior_order</th>\n",
       "    </tr>\n",
       "    <tr>\n",
       "      <th></th>\n",
       "      <th>mean</th>\n",
       "      <th>max</th>\n",
       "      <th>min</th>\n",
       "      <th>mean</th>\n",
       "      <th>max</th>\n",
       "      <th>min</th>\n",
       "    </tr>\n",
       "    <tr>\n",
       "      <th>dep_profile</th>\n",
       "      <th></th>\n",
       "      <th></th>\n",
       "      <th></th>\n",
       "      <th></th>\n",
       "      <th></th>\n",
       "      <th></th>\n",
       "    </tr>\n",
       "  </thead>\n",
       "  <tbody>\n",
       "    <tr>\n",
       "      <th>No-Child</th>\n",
       "      <td>12.130045</td>\n",
       "      <td>99999.0</td>\n",
       "      <td>1.0</td>\n",
       "      <td>11.080606</td>\n",
       "      <td>30.0</td>\n",
       "      <td>0.0</td>\n",
       "    </tr>\n",
       "    <tr>\n",
       "      <th>Partnered</th>\n",
       "      <td>12.582620</td>\n",
       "      <td>99999.0</td>\n",
       "      <td>1.0</td>\n",
       "      <td>11.050365</td>\n",
       "      <td>30.0</td>\n",
       "      <td>0.0</td>\n",
       "    </tr>\n",
       "    <tr>\n",
       "      <th>Single</th>\n",
       "      <td>6.700590</td>\n",
       "      <td>25.0</td>\n",
       "      <td>1.0</td>\n",
       "      <td>11.612723</td>\n",
       "      <td>30.0</td>\n",
       "      <td>0.0</td>\n",
       "    </tr>\n",
       "  </tbody>\n",
       "</table>\n",
       "</div>"
      ],
      "text/plain": [
       "                prices               days_since_prior_order           \n",
       "                  mean      max  min                   mean   max  min\n",
       "dep_profile                                                           \n",
       "No-Child     12.130045  99999.0  1.0              11.080606  30.0  0.0\n",
       "Partnered    12.582620  99999.0  1.0              11.050365  30.0  0.0\n",
       "Single        6.700590     25.0  1.0              11.612723  30.0  0.0"
      ]
     },
     "execution_count": 32,
     "metadata": {},
     "output_type": "execute_result"
    }
   ],
   "source": [
    "# Dependent profile\n",
    "df_ords_prods_custm.groupby('dep_profile').agg({'prices': ['mean', 'max', 'min'], 'days_since_prior_order': ['mean', 'max', 'min']})"
   ]
  },
  {
   "cell_type": "markdown",
   "id": "36b344fe",
   "metadata": {},
   "source": [
    "# 9. Compare customer profiles with regions and departments"
   ]
  },
  {
   "cell_type": "code",
   "execution_count": 40,
   "id": "a33c756d",
   "metadata": {},
   "outputs": [],
   "source": [
    "# Regional age differences\n",
    "age_crosstab_region = pd.crosstab(df_customer_profiles['region'], df_customer_profiles['age_profile'], dropna = False)"
   ]
  },
  {
   "cell_type": "code",
   "execution_count": 41,
   "id": "af758617",
   "metadata": {},
   "outputs": [
    {
     "data": {
      "image/png": "[encoded data removed]",
      "text/plain": [
       "<Figure size 640x480 with 1 Axes>"
      ]
     },
     "metadata": {},
     "output_type": "display_data"
    }
   ],
   "source": [
    "plt = age_crosstab_region.plot(kind = 'bar', \n",
    "                               stacked = False, \n",
    "                               title = 'Regional profiles',\n",
    "                               xlabel=\"Region\",\n",
    "                               ylabel=\"Income\")\n",
    "plt.figure.savefig(os.path.join(path, '04 Analysis','Visualizations', 'age_crosstab_region_bar.png'))"
   ]
  },
  {
   "cell_type": "code",
   "execution_count": 37,
   "id": "541406de",
   "metadata": {},
   "outputs": [],
   "source": [
    "# Regional income differences\n",
    "income_crosstab_region = pd.crosstab(df_customer_profiles['region'], df_customer_profiles['income_profile'], dropna = False)"
   ]
  },
  {
   "cell_type": "code",
   "execution_count": 38,
   "id": "192185b5",
   "metadata": {},
   "outputs": [],
   "source": [
    "income_crosstab_region = pd.crosstab(df_customer_profiles['region'], df_customer_profiles['income_profile'], dropna = False)"
   ]
  },
  {
   "cell_type": "code",
   "execution_count": 39,
   "id": "7520e412",
   "metadata": {},
   "outputs": [
    {
     "data": {
      "image/png": "[encoded data removed]",
      "text/plain": [
       "<Figure size 640x480 with 1 Axes>"
      ]
     },
     "metadata": {},
     "output_type": "display_data"
    }
   ],
   "source": [
    "plt = income_crosstab_region.plot(kind = 'bar', \n",
    "                                  stacked = False, \n",
    "                                  title = 'Regional income profiles',\n",
    "                                  xlabel=\"Profile\",\n",
    "                                  ylabel=\"Income\")\n",
    "plt.figure.savefig(os.path.join(path, '04 Analysis','Visualizations', 'income_crosstab_region_bar.png'))"
   ]
  },
  {
   "cell_type": "code",
   "execution_count": 42,
   "id": "397c4f8f",
   "metadata": {},
   "outputs": [],
   "source": [
    "# Regional dependent differences\n",
    "df_midwest = df_customer_profiles.loc[df_customer_profiles['region'] == \"Midwest\"]\n",
    "df_northeast = df_customer_profiles.loc[df_customer_profiles['region'] == \"Northeast\"]\n",
    "df_south = df_customer_profiles.loc[df_customer_profiles['region'] == \"South\"]\n",
    "df_west = df_customer_profiles.loc[df_customer_profiles['region'] == \"West\"]"
   ]
  },
  {
   "cell_type": "code",
   "execution_count": 55,
   "id": "9fcbf7ec",
   "metadata": {
    "scrolled": true
   },
   "outputs": [
    {
     "data": {
      "image/png": "[encoded data removed]",
      "text/plain": [
       "<Figure size 800x600 with 1 Axes>"
      ]
     },
     "metadata": {},
     "output_type": "display_data"
    }
   ],
   "source": [
    "pie_chart1 = df_midwest['dep_profile'].value_counts().plot.pie(figsize = (8,6), \n",
    "                                                                        colors = sns.color_palette( ['royalblue', 'orange', 'khaki']), \n",
    "                                                                        autopct = '%1.0f%%', \n",
    "                                                                        title =\"Percentage of Dependants Profiles Midwest\",\n",
    "                                                                        xlabel=\"\",\n",
    "                                                                        ylabel=\"\",)\n",
    "pie_chart1.figure.savefig(os.path.join(path, '04 Analysis','Visualizations', 'dependent_crosstab_midwest_pie.png'))"
   ]
  },
  {
   "cell_type": "code",
   "execution_count": 44,
   "id": "854db20e",
   "metadata": {},
   "outputs": [
    {
     "data": {
      "image/png": "[encoded data removed]",
      "text/plain": [
       "<Figure size 800x600 with 1 Axes>"
      ]
     },
     "metadata": {},
     "output_type": "display_data"
    }
   ],
   "source": [
    "pie_chart2 = df_northeast['dep_profile'].value_counts().plot.pie(figsize = (8,6), \n",
    "                                                                        colors = sns.color_palette( ['royalblue', 'orange', 'khaki']), \n",
    "                                                                        autopct = '%1.0f%%', \n",
    "                                                                        title =\"Percentage of Dependants Profiles Northeast\",\n",
    "                                                                        xlabel=\"\",\n",
    "                                                                        ylabel=\"\",)\n",
    "pie_chart2.figure.savefig(os.path.join(path, '04 Analysis','Visualizations', 'dependent_crosstab_nordeast_pie.png'))"
   ]
  },
  {
   "cell_type": "code",
   "execution_count": 45,
   "id": "22f23558",
   "metadata": {},
   "outputs": [
    {
     "data": {
      "image/png": "[encoded data removed]",
      "text/plain": [
       "<Figure size 800x600 with 1 Axes>"
      ]
     },
     "metadata": {},
     "output_type": "display_data"
    }
   ],
   "source": [
    "pie_chart3 = df_south['dep_profile'].value_counts().plot.pie(figsize = (8,6), \n",
    "                                                                        colors = sns.color_palette( ['royalblue', 'orange', 'khaki']), \n",
    "                                                                        autopct = '%1.0f%%', \n",
    "                                                                        title =\"Percentage of Dependants Profiles South\",\n",
    "                                                                        xlabel=\"\",\n",
    "                                                                        ylabel=\"\",)\n",
    "pie_chart3.figure.savefig(os.path.join(path, '04 Analysis','Visualizations', 'dependent_crosstab_south_pie.png'))"
   ]
  },
  {
   "cell_type": "code",
   "execution_count": 46,
   "id": "5c05f8ed",
   "metadata": {},
   "outputs": [
    {
     "data": {
      "image/png": "[encoded data removed]",
      "text/plain": [
       "<Figure size 800x600 with 1 Axes>"
      ]
     },
     "metadata": {},
     "output_type": "display_data"
    }
   ],
   "source": [
    "pie_chart4 = df_west['dep_profile'].value_counts().plot.pie(figsize = (8,6), \n",
    "                                                                        colors = sns.color_palette( ['royalblue', 'orange', 'khaki']), \n",
    "                                                                        autopct = '%1.0f%%', \n",
    "                                                                        title =\"Percentage of Dependants Profiles West\",\n",
    "                                                                        xlabel=\"\",\n",
    "                                                                        ylabel=\"\",)\n",
    "pie_chart4.figure.savefig(os.path.join(path, '04 Analysis','Visualizations', 'dependent_crosstab_west_pie.png'))"
   ]
  },
  {
   "cell_type": "markdown",
   "id": "881ade54",
   "metadata": {},
   "source": [
    "# 10.  Visualizing profiles by departments"
   ]
  },
  {
   "cell_type": "code",
   "execution_count": 41,
   "id": "c7394927",
   "metadata": {},
   "outputs": [
    {
     "name": "stdout",
     "output_type": "stream",
     "text": [
      "<class 'pandas.core.frame.DataFrame'>\n",
      "Int64Index: 32434212 entries, 0 to 32434211\n",
      "Data columns (total 37 columns):\n",
      " #   Column                  Dtype   \n",
      "---  ------                  -----   \n",
      " 0   order_id                int64   \n",
      " 1   user_id                 object  \n",
      " 2   order_number            int64   \n",
      " 3   orders_day_of_week      int64   \n",
      " 4   order_hour_of_day       int64   \n",
      " 5   days_since_prior_order  float64 \n",
      " 6   product_id              int64   \n",
      " 7   add_to_cart_order       int64   \n",
      " 8   reordered               int64   \n",
      " 9   product_name            object  \n",
      " 10  aisle_id                int64   \n",
      " 11  department_id           int64   \n",
      " 12  prices                  float64 \n",
      " 13  _merge                  category\n",
      " 14  price_range_loc         object  \n",
      " 15  busiest_day             object  \n",
      " 16  Busiest_days            object  \n",
      " 17  busiest_period_of_day   object  \n",
      " 18  max_order               int64   \n",
      " 19  loyalty_flag            object  \n",
      " 20  avg_price               float64 \n",
      " 21  spending_loc            object  \n",
      " 22  frequent_median         float64 \n",
      " 23  frequent_flag           object  \n",
      " 24  gender                  object  \n",
      " 25  state                   object  \n",
      " 26  age                     int64   \n",
      " 27  date_joined             object  \n",
      " 28  numbers_of_dependants   int64   \n",
      " 29  family_status           object  \n",
      " 30  income                  int64   \n",
      " 31  True                    category\n",
      " 32  region                  object  \n",
      " 33  activity_flag           object  \n",
      " 34  dep_profile             object  \n",
      " 35  age_profile             object  \n",
      " 36  income_profile          object  \n",
      "dtypes: category(2), float64(4), int64(13), object(18)\n",
      "memory usage: 8.8+ GB\n"
     ]
    }
   ],
   "source": [
    "df_ords_prods_custm.info()"
   ]
  },
  {
   "cell_type": "code",
   "execution_count": 28,
   "id": "cb44e694",
   "metadata": {},
   "outputs": [],
   "source": [
    "# creating subset of profiles nd departments\n",
    "df_virtual = df_ords_prods_custm[['department_id', 'user_id',  'region','age_profile', 'income_profile', 'loyalty_flag', 'spending_loc', 'frequent_flag', 'family_status']]"
   ]
  },
  {
   "cell_type": "code",
   "execution_count": 29,
   "id": "765b2a48",
   "metadata": {},
   "outputs": [
    {
     "data": {
      "image/png": "[encoded data removed]",
      "text/plain": [
       "<Figure size 640x480 with 1 Axes>"
      ]
     },
     "metadata": {},
     "output_type": "display_data"
    }
   ],
   "source": [
    "depts_age_crosstab = pd.crosstab(df_virtual['department_id'], df_virtual['age_profile'], dropna = False)\n",
    "plt = depts_age_crosstab.plot(kind = 'bar', stacked = True, title = 'Department preferences of age groups',)\n",
    "plt.figure.savefig(os.path.join(path, '04 Analysis','Visualizations', 'dependent_pref_age_bar.png'))"
   ]
  },
  {
   "cell_type": "code",
   "execution_count": null,
   "id": "ff647548",
   "metadata": {},
   "outputs": [],
   "source": []
  }
 ],
 "metadata": {
  "kernelspec": {
   "display_name": "Python 3 (ipykernel)",
   "language": "python",
   "name": "python3"
  },
  "language_info": {
   "codemirror_mode": {
    "name": "ipython",
    "version": 3
   },
   "file_extension": ".py",
   "mimetype": "text/x-python",
   "name": "python",
   "nbconvert_exporter": "python",
   "pygments_lexer": "ipython3",
   "version": "3.10.9"
  }
 },
 "nbformat": 4,
 "nbformat_minor": 5
}
