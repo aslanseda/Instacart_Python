{
 "cells": [
  {
   "cell_type": "markdown",
   "id": "f4732312",
   "metadata": {},
   "source": [
    "## 01.Importing Libraries"
   ]
  },
  {
   "cell_type": "code",
   "execution_count": 1,
   "id": "dfd465f0",
   "metadata": {},
   "outputs": [],
   "source": [
    "import pandas as pd\n",
    "import numpy as np\n",
    "import os"
   ]
  },
  {
   "cell_type": "markdown",
   "id": "f347a753",
   "metadata": {},
   "source": [
    "## 02.Data Types"
   ]
  },
  {
   "cell_type": "code",
   "execution_count": 2,
   "id": "84e46bf9",
   "metadata": {},
   "outputs": [],
   "source": [
    "x=25"
   ]
  },
  {
   "cell_type": "code",
   "execution_count": 3,
   "id": "71a08fb8",
   "metadata": {},
   "outputs": [],
   "source": [
    "y=50"
   ]
  },
  {
   "cell_type": "code",
   "execution_count": 4,
   "id": "5e6612e6",
   "metadata": {},
   "outputs": [],
   "source": [
    "z=75"
   ]
  },
  {
   "cell_type": "code",
   "execution_count": 5,
   "id": "43ac4048",
   "metadata": {},
   "outputs": [
    {
     "data": {
      "text/plain": [
       "100"
      ]
     },
     "execution_count": 5,
     "metadata": {},
     "output_type": "execute_result"
    }
   ],
   "source": [
    "z+y-x"
   ]
  },
  {
   "cell_type": "code",
   "execution_count": 6,
   "id": "ae77f639",
   "metadata": {},
   "outputs": [
    {
     "data": {
      "text/plain": [
       "100"
      ]
     },
     "execution_count": 6,
     "metadata": {},
     "output_type": "execute_result"
    }
   ],
   "source": [
    "(2*x)+50"
   ]
  },
  {
   "cell_type": "code",
   "execution_count": 7,
   "id": "d48652d9",
   "metadata": {},
   "outputs": [
    {
     "data": {
      "text/plain": [
       "100"
      ]
     },
     "execution_count": 7,
     "metadata": {},
     "output_type": "execute_result"
    }
   ],
   "source": [
    "(2*z)-y"
   ]
  },
  {
   "cell_type": "code",
   "execution_count": 8,
   "id": "da886753",
   "metadata": {},
   "outputs": [],
   "source": [
    "a=25.75"
   ]
  },
  {
   "cell_type": "code",
   "execution_count": 11,
   "id": "87b59bfa",
   "metadata": {},
   "outputs": [],
   "source": [
    "b=3.6"
   ]
  },
  {
   "cell_type": "code",
   "execution_count": 14,
   "id": "245deb4a",
   "metadata": {},
   "outputs": [
    {
     "data": {
      "text/plain": [
       "7.152777777777778"
      ]
     },
     "execution_count": 14,
     "metadata": {},
     "output_type": "execute_result"
    }
   ],
   "source": [
    "a/b"
   ]
  },
  {
   "cell_type": "code",
   "execution_count": 15,
   "id": "e0e4cdbb",
   "metadata": {},
   "outputs": [],
   "source": [
    "c='straw'"
   ]
  },
  {
   "cell_type": "code",
   "execution_count": 16,
   "id": "4b893a42",
   "metadata": {},
   "outputs": [],
   "source": [
    "d='berry'"
   ]
  },
  {
   "cell_type": "code",
   "execution_count": 17,
   "id": "d0e438f5",
   "metadata": {},
   "outputs": [
    {
     "data": {
      "text/plain": [
       "'strawberry'"
      ]
     },
     "execution_count": 17,
     "metadata": {},
     "output_type": "execute_result"
    }
   ],
   "source": [
    "c+d"
   ]
  },
  {
   "cell_type": "code",
   "execution_count": 18,
   "id": "b6e78e68",
   "metadata": {},
   "outputs": [],
   "source": [
    "e='Hello'"
   ]
  },
  {
   "cell_type": "code",
   "execution_count": 25,
   "id": "9ab9aa39",
   "metadata": {},
   "outputs": [],
   "source": [
    "f=' I am'"
   ]
  },
  {
   "cell_type": "code",
   "execution_count": 27,
   "id": "a76e89f5",
   "metadata": {},
   "outputs": [],
   "source": [
    "g=' data'"
   ]
  },
  {
   "cell_type": "code",
   "execution_count": 28,
   "id": "19a85f46",
   "metadata": {},
   "outputs": [],
   "source": [
    "h=' analyst'"
   ]
  },
  {
   "cell_type": "code",
   "execution_count": 29,
   "id": "c68bf890",
   "metadata": {},
   "outputs": [
    {
     "data": {
      "text/plain": [
       "'Hello I am data analyst'"
      ]
     },
     "execution_count": 29,
     "metadata": {},
     "output_type": "execute_result"
    }
   ],
   "source": [
    "e+f+g+h"
   ]
  },
  {
   "cell_type": "code",
   "execution_count": 24,
   "id": "579d6653",
   "metadata": {},
   "outputs": [
    {
     "data": {
      "text/plain": [
       "'HelloHelloHelloHelloHelloHelloHelloHelloHelloHelloHelloHelloHelloHelloHelloHelloHelloHelloHelloHelloHelloHelloHelloHelloHelloHelloHelloHelloHelloHelloHelloHelloHelloHelloHelloHelloHelloHelloHelloHelloHelloHelloHelloHelloHelloHelloHelloHelloHelloHelloHelloHelloHelloHelloHelloHelloHelloHelloHelloHelloHelloHelloHelloHelloHelloHelloHelloHelloHelloHelloHelloHelloHelloHelloHelloHelloHelloHelloHelloHelloHelloHelloHelloHelloHelloHelloHelloHelloHelloHelloHelloHelloHelloHelloHelloHelloHelloHelloHelloHello'"
      ]
     },
     "execution_count": 24,
     "metadata": {},
     "output_type": "execute_result"
    }
   ],
   "source": [
    "e*100"
   ]
  },
  {
   "cell_type": "code",
   "execution_count": null,
   "id": "c11abb65",
   "metadata": {},
   "outputs": [],
   "source": []
  }
 ],
 "metadata": {
  "kernelspec": {
   "display_name": "Python 3 (ipykernel)",
   "language": "python",
   "name": "python3"
  },
  "language_info": {
   "codemirror_mode": {
    "name": "ipython",
    "version": 3
   },
   "file_extension": ".py",
   "mimetype": "text/x-python",
   "name": "python",
   "nbconvert_exporter": "python",
   "pygments_lexer": "ipython3",
   "version": "3.10.9"
  }
 },
 "nbformat": 4,
 "nbformat_minor": 5
}
